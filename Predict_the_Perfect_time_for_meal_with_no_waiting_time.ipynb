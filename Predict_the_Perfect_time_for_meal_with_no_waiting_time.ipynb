{
  "nbformat": 4,
  "nbformat_minor": 0,
  "metadata": {
    "colab": {
      "provenance": []
    },
    "kernelspec": {
      "name": "python3",
      "display_name": "Python 3"
    },
    "language_info": {
      "name": "python"
    }
  },
  "cells": [
    {
      "cell_type": "code",
      "execution_count": 1,
      "metadata": {
        "colab": {
          "base_uri": "https://localhost:8080/",
          "height": 356
        },
        "id": "Rk0Fx2qq4gis",
        "outputId": "87436f16-67e5-46a2-fece-0d5f966db153"
      },
      "outputs": [
        {
          "output_type": "error",
          "ename": "FileNotFoundError",
          "evalue": "[Errno 2] No such file or directory: 'meal_data.csv'",
          "traceback": [
            "\u001b[0;31m---------------------------------------------------------------------------\u001b[0m",
            "\u001b[0;31mFileNotFoundError\u001b[0m                         Traceback (most recent call last)",
            "\u001b[0;32m<ipython-input-1-be9a123ee965>\u001b[0m in \u001b[0;36m<cell line: 8>\u001b[0;34m()\u001b[0m\n\u001b[1;32m      6\u001b[0m \u001b[0;34m\u001b[0m\u001b[0m\n\u001b[1;32m      7\u001b[0m \u001b[0;31m# Load your dataset\u001b[0m\u001b[0;34m\u001b[0m\u001b[0;34m\u001b[0m\u001b[0m\n\u001b[0;32m----> 8\u001b[0;31m \u001b[0mdata\u001b[0m \u001b[0;34m=\u001b[0m \u001b[0mpd\u001b[0m\u001b[0;34m.\u001b[0m\u001b[0mread_csv\u001b[0m\u001b[0;34m(\u001b[0m\u001b[0;34m'meal_data.csv'\u001b[0m\u001b[0;34m)\u001b[0m\u001b[0;34m\u001b[0m\u001b[0;34m\u001b[0m\u001b[0m\n\u001b[0m\u001b[1;32m      9\u001b[0m \u001b[0;34m\u001b[0m\u001b[0m\n\u001b[1;32m     10\u001b[0m \u001b[0;31m# Feature engineering\u001b[0m\u001b[0;34m\u001b[0m\u001b[0;34m\u001b[0m\u001b[0m\n",
            "\u001b[0;32m/usr/local/lib/python3.10/dist-packages/pandas/io/parsers/readers.py\u001b[0m in \u001b[0;36mread_csv\u001b[0;34m(filepath_or_buffer, sep, delimiter, header, names, index_col, usecols, dtype, engine, converters, true_values, false_values, skipinitialspace, skiprows, skipfooter, nrows, na_values, keep_default_na, na_filter, verbose, skip_blank_lines, parse_dates, infer_datetime_format, keep_date_col, date_parser, date_format, dayfirst, cache_dates, iterator, chunksize, compression, thousands, decimal, lineterminator, quotechar, quoting, doublequote, escapechar, comment, encoding, encoding_errors, dialect, on_bad_lines, delim_whitespace, low_memory, memory_map, float_precision, storage_options, dtype_backend)\u001b[0m\n\u001b[1;32m   1024\u001b[0m     \u001b[0mkwds\u001b[0m\u001b[0;34m.\u001b[0m\u001b[0mupdate\u001b[0m\u001b[0;34m(\u001b[0m\u001b[0mkwds_defaults\u001b[0m\u001b[0;34m)\u001b[0m\u001b[0;34m\u001b[0m\u001b[0;34m\u001b[0m\u001b[0m\n\u001b[1;32m   1025\u001b[0m \u001b[0;34m\u001b[0m\u001b[0m\n\u001b[0;32m-> 1026\u001b[0;31m     \u001b[0;32mreturn\u001b[0m \u001b[0m_read\u001b[0m\u001b[0;34m(\u001b[0m\u001b[0mfilepath_or_buffer\u001b[0m\u001b[0;34m,\u001b[0m \u001b[0mkwds\u001b[0m\u001b[0;34m)\u001b[0m\u001b[0;34m\u001b[0m\u001b[0;34m\u001b[0m\u001b[0m\n\u001b[0m\u001b[1;32m   1027\u001b[0m \u001b[0;34m\u001b[0m\u001b[0m\n\u001b[1;32m   1028\u001b[0m \u001b[0;34m\u001b[0m\u001b[0m\n",
            "\u001b[0;32m/usr/local/lib/python3.10/dist-packages/pandas/io/parsers/readers.py\u001b[0m in \u001b[0;36m_read\u001b[0;34m(filepath_or_buffer, kwds)\u001b[0m\n\u001b[1;32m    618\u001b[0m \u001b[0;34m\u001b[0m\u001b[0m\n\u001b[1;32m    619\u001b[0m     \u001b[0;31m# Create the parser.\u001b[0m\u001b[0;34m\u001b[0m\u001b[0;34m\u001b[0m\u001b[0m\n\u001b[0;32m--> 620\u001b[0;31m     \u001b[0mparser\u001b[0m \u001b[0;34m=\u001b[0m \u001b[0mTextFileReader\u001b[0m\u001b[0;34m(\u001b[0m\u001b[0mfilepath_or_buffer\u001b[0m\u001b[0;34m,\u001b[0m \u001b[0;34m**\u001b[0m\u001b[0mkwds\u001b[0m\u001b[0;34m)\u001b[0m\u001b[0;34m\u001b[0m\u001b[0;34m\u001b[0m\u001b[0m\n\u001b[0m\u001b[1;32m    621\u001b[0m \u001b[0;34m\u001b[0m\u001b[0m\n\u001b[1;32m    622\u001b[0m     \u001b[0;32mif\u001b[0m \u001b[0mchunksize\u001b[0m \u001b[0;32mor\u001b[0m \u001b[0miterator\u001b[0m\u001b[0;34m:\u001b[0m\u001b[0;34m\u001b[0m\u001b[0;34m\u001b[0m\u001b[0m\n",
            "\u001b[0;32m/usr/local/lib/python3.10/dist-packages/pandas/io/parsers/readers.py\u001b[0m in \u001b[0;36m__init__\u001b[0;34m(self, f, engine, **kwds)\u001b[0m\n\u001b[1;32m   1618\u001b[0m \u001b[0;34m\u001b[0m\u001b[0m\n\u001b[1;32m   1619\u001b[0m         \u001b[0mself\u001b[0m\u001b[0;34m.\u001b[0m\u001b[0mhandles\u001b[0m\u001b[0;34m:\u001b[0m \u001b[0mIOHandles\u001b[0m \u001b[0;34m|\u001b[0m \u001b[0;32mNone\u001b[0m \u001b[0;34m=\u001b[0m \u001b[0;32mNone\u001b[0m\u001b[0;34m\u001b[0m\u001b[0;34m\u001b[0m\u001b[0m\n\u001b[0;32m-> 1620\u001b[0;31m         \u001b[0mself\u001b[0m\u001b[0;34m.\u001b[0m\u001b[0m_engine\u001b[0m \u001b[0;34m=\u001b[0m \u001b[0mself\u001b[0m\u001b[0;34m.\u001b[0m\u001b[0m_make_engine\u001b[0m\u001b[0;34m(\u001b[0m\u001b[0mf\u001b[0m\u001b[0;34m,\u001b[0m \u001b[0mself\u001b[0m\u001b[0;34m.\u001b[0m\u001b[0mengine\u001b[0m\u001b[0;34m)\u001b[0m\u001b[0;34m\u001b[0m\u001b[0;34m\u001b[0m\u001b[0m\n\u001b[0m\u001b[1;32m   1621\u001b[0m \u001b[0;34m\u001b[0m\u001b[0m\n\u001b[1;32m   1622\u001b[0m     \u001b[0;32mdef\u001b[0m \u001b[0mclose\u001b[0m\u001b[0;34m(\u001b[0m\u001b[0mself\u001b[0m\u001b[0;34m)\u001b[0m \u001b[0;34m->\u001b[0m \u001b[0;32mNone\u001b[0m\u001b[0;34m:\u001b[0m\u001b[0;34m\u001b[0m\u001b[0;34m\u001b[0m\u001b[0m\n",
            "\u001b[0;32m/usr/local/lib/python3.10/dist-packages/pandas/io/parsers/readers.py\u001b[0m in \u001b[0;36m_make_engine\u001b[0;34m(self, f, engine)\u001b[0m\n\u001b[1;32m   1878\u001b[0m                 \u001b[0;32mif\u001b[0m \u001b[0;34m\"b\"\u001b[0m \u001b[0;32mnot\u001b[0m \u001b[0;32min\u001b[0m \u001b[0mmode\u001b[0m\u001b[0;34m:\u001b[0m\u001b[0;34m\u001b[0m\u001b[0;34m\u001b[0m\u001b[0m\n\u001b[1;32m   1879\u001b[0m                     \u001b[0mmode\u001b[0m \u001b[0;34m+=\u001b[0m \u001b[0;34m\"b\"\u001b[0m\u001b[0;34m\u001b[0m\u001b[0;34m\u001b[0m\u001b[0m\n\u001b[0;32m-> 1880\u001b[0;31m             self.handles = get_handle(\n\u001b[0m\u001b[1;32m   1881\u001b[0m                 \u001b[0mf\u001b[0m\u001b[0;34m,\u001b[0m\u001b[0;34m\u001b[0m\u001b[0;34m\u001b[0m\u001b[0m\n\u001b[1;32m   1882\u001b[0m                 \u001b[0mmode\u001b[0m\u001b[0;34m,\u001b[0m\u001b[0;34m\u001b[0m\u001b[0;34m\u001b[0m\u001b[0m\n",
            "\u001b[0;32m/usr/local/lib/python3.10/dist-packages/pandas/io/common.py\u001b[0m in \u001b[0;36mget_handle\u001b[0;34m(path_or_buf, mode, encoding, compression, memory_map, is_text, errors, storage_options)\u001b[0m\n\u001b[1;32m    871\u001b[0m         \u001b[0;32mif\u001b[0m \u001b[0mioargs\u001b[0m\u001b[0;34m.\u001b[0m\u001b[0mencoding\u001b[0m \u001b[0;32mand\u001b[0m \u001b[0;34m\"b\"\u001b[0m \u001b[0;32mnot\u001b[0m \u001b[0;32min\u001b[0m \u001b[0mioargs\u001b[0m\u001b[0;34m.\u001b[0m\u001b[0mmode\u001b[0m\u001b[0;34m:\u001b[0m\u001b[0;34m\u001b[0m\u001b[0;34m\u001b[0m\u001b[0m\n\u001b[1;32m    872\u001b[0m             \u001b[0;31m# Encoding\u001b[0m\u001b[0;34m\u001b[0m\u001b[0;34m\u001b[0m\u001b[0m\n\u001b[0;32m--> 873\u001b[0;31m             handle = open(\n\u001b[0m\u001b[1;32m    874\u001b[0m                 \u001b[0mhandle\u001b[0m\u001b[0;34m,\u001b[0m\u001b[0;34m\u001b[0m\u001b[0;34m\u001b[0m\u001b[0m\n\u001b[1;32m    875\u001b[0m                 \u001b[0mioargs\u001b[0m\u001b[0;34m.\u001b[0m\u001b[0mmode\u001b[0m\u001b[0;34m,\u001b[0m\u001b[0;34m\u001b[0m\u001b[0;34m\u001b[0m\u001b[0m\n",
            "\u001b[0;31mFileNotFoundError\u001b[0m: [Errno 2] No such file or directory: 'meal_data.csv'"
          ]
        }
      ],
      "source": [
        "import pandas as pd\n",
        "from sklearn.model_selection import train_test_split\n",
        "from sklearn.ensemble import RandomForestRegressor\n",
        "from sklearn.metrics import mean_absolute_error\n",
        "import matplotlib.pyplot as plt\n",
        "\n",
        "# Load your dataset\n",
        "data = pd.read_csv('meal_data.csv')\n",
        "\n",
        "# Feature engineering\n",
        "data['DayOfWeek'] = data['Day'].astype('category').cat.codes\n",
        "data['Holiday'] = data['Holiday'].map({'Yes': 1, 'No': 0})\n",
        "\n",
        "# Prepare features and target\n",
        "X = data[['DayOfWeek', 'Holiday', 'Meal']]\n",
        "X = pd.get_dummies(X, columns=['Meal'], drop_first=True)  # One-hot encoding\n",
        "y = data['Time']\n",
        "\n",
        "# Split data\n",
        "X_train, X_test, y_train, y_test = train_test_split(X, y, test_size=0.2, random_state=42)\n",
        "\n",
        "# Train model\n",
        "model = RandomForestRegressor()\n",
        "model.fit(X_train, y_train)\n",
        "\n",
        "# Predict and evaluate\n",
        "predictions = model.predict(X_test)\n",
        "print('Mean Absolute Error:', mean_absolute_error(y_test, predictions))\n",
        "\n",
        "# Visualize predictions\n",
        "plt.scatter(y_test, predictions)\n",
        "plt.xlabel('Actual Meal Times')\n",
        "plt.ylabel('Predicted Meal Times')\n",
        "plt.title('Actual vs Predicted Meal Times')\n",
        "plt.show()\n"
      ]
    },
    {
      "cell_type": "code",
      "source": [
        "import pandas as pd\n",
        "from sklearn.model_selection import train_test_split\n",
        "from sklearn.ensemble import RandomForestRegressor\n",
        "from sklearn.metrics import mean_absolute_error\n",
        "import matplotlib.pyplot as plt\n",
        "\n",
        "# Create the dataset\n",
        "data = {\n",
        "    'Date': [26, 26, 26, 26, 27, 27, 27, 27, 28, 28, 28, 28, 29, 29, 29, 29,\n",
        "             30, 30, 30, 30, 1, 1, 1, 1, 2, 2, 2, 2, 3, 3, 3, 3,\n",
        "             4, 4, 4, 4, 5, 5, 5, 5, 6, 6, 6, 6, 7, 7, 7, 7],\n",
        "    'Day': ['Monday', 'Monday', 'Monday', 'Monday',\n",
        "            'Tuesday', 'Tuesday', 'Tuesday', 'Tuesday',\n",
        "            'Wednesday', 'Wednesday', 'Wednesday', 'Wednesday',\n",
        "            'Friday', 'Friday', 'Friday', 'Friday',\n",
        "            'Saturday', 'Saturday', 'Saturday', 'Saturday',\n",
        "            'Sunday', 'Sunday', 'Sunday', 'Sunday',\n",
        "            'Monday', 'Monday', 'Monday', 'Monday',\n",
        "            'Tuesday', 'Tuesday', 'Tuesday', 'Tuesday',\n",
        "            'Wednesday', 'Wednesday', 'Wednesday', 'Wednesday',\n",
        "            'Friday', 'Friday', 'Friday', 'Friday',\n",
        "            'Saturday', 'Saturday', 'Saturday', 'Saturday',\n",
        "            'Sunday', 'Sunday', 'Sunday', 'Sunday'],\n",
        "    'Holiday': ['No', 'No', 'No', 'No',\n",
        "                'No', 'No', 'No', 'No',\n",
        "                'No', 'No', 'No', 'No',\n",
        "                'No', 'No', 'No', 'No',\n",
        "                'Yes', 'Yes', 'Yes', 'Yes',\n",
        "                'Yes', 'Yes', 'Yes', 'Yes',\n",
        "                'Yes', 'Yes', 'Yes', 'Yes',\n",
        "                'No', 'No', 'No', 'No',\n",
        "                'No', 'No', 'No', 'No',\n",
        "                'No', 'No', 'No', 'No',\n",
        "                'No', 'Yes', 'Yes', 'Yes',\n",
        "                'Yes', 'Yes', 'Yes', 'Yes'],\n",
        "    'Meal': ['Breakfast', 'Lunch', 'Tea', 'Dinner',\n",
        "             'Breakfast', 'Lunch', 'Tea', 'Dinner',\n",
        "             'Breakfast', 'Lunch', 'Tea', 'Dinner',\n",
        "             'Breakfast', 'Lunch', 'Tea', 'Dinner',\n",
        "             'Breakfast', 'Lunch', 'Tea', 'Dinner',\n",
        "             'Breakfast', 'Lunch', 'Tea', 'Dinner',\n",
        "             'Breakfast', 'Lunch', 'Tea', 'Dinner',\n",
        "             'Breakfast', 'Lunch', 'Tea', 'Dinner',\n",
        "             'Breakfast', 'Lunch', 'Tea', 'Dinner',\n",
        "             'Breakfast', 'Lunch', 'Tea', 'Dinner',\n",
        "             'Breakfast', 'Lunch', 'Tea', 'Dinner',\n",
        "             'Breakfast', 'Lunch', 'Tea', 'Dinner'],\n",
        "    'Time': [13.9, 17, 5.9, 20.2,\n",
        "             14.2, 20, 6, 18.2,\n",
        "             12, 23, 6.5, 20.9,\n",
        "             15, 17.9, 5, 18,\n",
        "             18, 20, 6.2, 19.9,\n",
        "             13.3, 19, 7, 21,\n",
        "             15, 20, 8, 22,\n",
        "             13, 15, 6, 21,\n",
        "             15, 20, 6, 21,\n",
        "             18.3, 17.5, 5.3, 19.9,\n",
        "             13.3, 18.2, 6.2, 21.2,\n",
        "             15.2, 18, 7, 21]\n",
        "}\n",
        "\n",
        "# Load data into DataFrame\n",
        "df = pd.DataFrame(data)\n",
        "\n",
        "# Feature Engineering\n",
        "df['DayOfWeek'] = df['Day'].astype('category').cat.codes  # Encode days\n",
        "df['Holiday'] = df['Holiday'].map({'Yes': 1, 'No': 0})  # Convert Holiday to binary\n",
        "\n",
        "# One-hot encoding for Meal\n",
        "df = pd.get_dummies(df, columns=['Meal'], drop_first=True)\n",
        "\n",
        "# Prepare features and target variable\n",
        "X = df[['DayOfWeek', 'Holiday'] + [col for col in df.columns if 'Meal_' in col]]\n",
        "y = df['Time']\n",
        "\n",
        "# Split data into training and testing sets\n",
        "X_train, X_test, y_train, y_test = train_test_split(X, y, test_size=0.2, random_state=42)\n",
        "\n",
        "# Train the model\n",
        "model = RandomForestRegressor(random_state=42)\n",
        "model.fit(X_train, y_train)\n",
        "\n",
        "# Predict and evaluate the model\n",
        "predictions = model.predict(X_test)\n",
        "mae = mean_absolute_error(y_test, predictions)\n",
        "print('Mean Absolute Error:', mae)\n",
        "\n",
        "# Visualize actual vs predicted meal times\n",
        "plt.scatter(y_test, predictions)\n",
        "plt.xlabel('Actual Meal Times')\n",
        "plt.ylabel('Predicted Meal Times')\n",
        "plt.title('Actual vs Predicted Meal Times')\n",
        "plt.plot([min(y_test), max(y_test)], [min(y_test), max(y_test)], color='red', linestyle='--')  # Diagonal line\n",
        "plt.show()\n"
      ],
      "metadata": {
        "colab": {
          "base_uri": "https://localhost:8080/",
          "height": 489
        },
        "id": "ZQmJhgOL5Im3",
        "outputId": "ddf36334-efa2-4040-9ad8-ab002ade52be"
      },
      "execution_count": 2,
      "outputs": [
        {
          "output_type": "stream",
          "name": "stdout",
          "text": [
            "Mean Absolute Error: 1.44866857142857\n"
          ]
        },
        {
          "output_type": "display_data",
          "data": {
            "text/plain": [
              "<Figure size 640x480 with 1 Axes>"
            ],
            "image/png": "[encoded data removed]"
          },
          "metadata": {}
        }
      ]
    },
    {
      "cell_type": "code",
      "source": [],
      "metadata": {
        "id": "Qunf5dBr6413"
      },
      "execution_count": null,
      "outputs": []
    },
    {
      "cell_type": "code",
      "source": [],
      "metadata": {
        "id": "nvHmt0vT64zt"
      },
      "execution_count": null,
      "outputs": []
    },
    {
      "cell_type": "code",
      "source": [
        "import pandas as pd\n",
        "from sklearn.model_selection import train_test_split\n",
        "from sklearn.preprocessing import LabelEncoder, StandardScaler\n",
        "\n",
        "# Load the dataset\n",
        "df = pd.read_csv('/content/large_mess_data.csv')\n",
        "\n",
        "# Preview the data\n",
        "print(df.head())\n",
        "\n",
        "# 1. Handle missing values (if any)\n",
        "# Check for missing values\n",
        "print(df.isnull().sum())\n",
        "\n",
        "# Since the dataset is generated, we shouldn't have missing values. If there are any, let's fill or drop them:\n",
        "df = df.dropna()  # Dropping any missing rows\n",
        "\n",
        "# 2. Feature engineering\n",
        "# Convert 'time' into separate hour and minute columns\n",
        "df['hour'] = pd.to_datetime(df['time'], format='%H:%M').dt.hour\n",
        "df['minute'] = pd.to_datetime(df['time'], format='%H:%M').dt.minute\n",
        "\n",
        "# Drop the original 'time' column as it's now split\n",
        "df = df.drop('time', axis=1)\n",
        "\n",
        "# Encode categorical variables into numeric representations\n",
        "label_encoder = LabelEncoder()\n",
        "\n",
        "df['day_of_week'] = label_encoder.fit_transform(df['day_of_week'])  # Monday = 0, Sunday = 6\n",
        "df['meal_type'] = label_encoder.fit_transform(df['meal_type'])      # breakfast, lunch, dinner -> 0, 1, 2\n",
        "df['weather'] = label_encoder.fit_transform(df['weather'])          # sunny, cloudy, rainy, snowy -> 0, 1, 2, 3\n",
        "df['event'] = label_encoder.fit_transform(df['event'])              # normal, sports_day, etc.\n",
        "\n",
        "# 3. Feature scaling (only for numeric features like waiting_time)\n",
        "scaler = StandardScaler()\n",
        "\n",
        "df['waiting_time_scaled'] = scaler.fit_transform(df[['waiting_time']])\n",
        "\n",
        "# We can drop the original waiting_time if we prefer the scaled version\n",
        "df = df.drop('waiting_time', axis=1)\n",
        "\n",
        "# 4. Split the data into training and testing sets\n",
        "# Define feature columns and target column\n",
        "X = df.drop(['date', 'waiting_time_scaled'], axis=1)  # Features (dropping date column for now)\n",
        "y = df['waiting_time_scaled']  # Target (scaled waiting time)\n",
        "\n",
        "# Train-test split (80% training, 20% testing)\n",
        "X_train, X_test, y_train, y_test = train_test_split(X, y, test_size=0.2, random_state=42)\n",
        "\n",
        "# Preview the preprocessed data\n",
        "print(\"Training features:\\n\", X_train.head())\n",
        "print(\"Training target:\\n\", y_train.head())\n"
      ],
      "metadata": {
        "colab": {
          "base_uri": "https://localhost:8080/"
        },
        "id": "oL7LZhem64xn",
        "outputId": "9d85b734-d0a9-44d1-a648-aea5dba87529"
      },
      "execution_count": 3,
      "outputs": [
        {
          "output_type": "stream",
          "name": "stdout",
          "text": [
            "         date   time day_of_week  meal_type  waiting_time weather  \\\n",
            "0  2024-01-01  18:23    Thursday     dinner            37  cloudy   \n",
            "1  2024-01-01  18:00   Wednesday      lunch            13   sunny   \n",
            "2  2024-01-01  16:00      Friday  breakfast            31   sunny   \n",
            "3  2024-01-01  15:29     Tuesday  breakfast             9   sunny   \n",
            "4  2024-01-01  13:59     Tuesday  breakfast            41  cloudy   \n",
            "\n",
            "           event  \n",
            "0        holiday  \n",
            "1  cultural_fest  \n",
            "2         normal  \n",
            "3        holiday  \n",
            "4         normal  \n",
            "date            0\n",
            "time            0\n",
            "day_of_week     0\n",
            "meal_type       0\n",
            "waiting_time    0\n",
            "weather         0\n",
            "event           0\n",
            "dtype: int64\n",
            "Training features:\n",
            "         day_of_week  meal_type  weather  event  hour  minute\n",
            "566853            6          2        3      1    11      34\n",
            "382311            5          0        3      0    20      23\n",
            "241519            4          1        1      0    16      48\n",
            "719220            2          2        0      0    20       7\n",
            "905718            3          1        1      3     7       8\n",
            "Training target:\n",
            " 566853    1.243007\n",
            "382311    0.896435\n",
            "241519    1.300769\n",
            "719220   -0.836427\n",
            "905718   -1.529572\n",
            "Name: waiting_time_scaled, dtype: float64\n"
          ]
        }
      ]
    },
    {
      "cell_type": "code",
      "source": [
        "from sklearn.ensemble import RandomForestRegressor\n",
        "from sklearn.metrics import mean_absolute_error, mean_squared_error\n",
        "import numpy as np\n",
        "\n",
        "# 1. Initialize the model\n",
        "model = RandomForestRegressor(n_estimators=100, random_state=42)\n",
        "\n",
        "# 2. Train the model on the training data\n",
        "model.fit(X_train, y_train)\n",
        "\n",
        "# 3. Make predictions on the test data\n",
        "y_pred = model.predict(X_test)\n",
        "\n",
        "# 4. Evaluate the model\n",
        "mae = mean_absolute_error(y_test, y_pred)\n",
        "rmse = np.sqrt(mean_squared_error(y_test, y_pred))\n",
        "\n",
        "print(f\"Mean Absolute Error (MAE): {mae:.2f} minutes\")\n",
        "print(f\"Root Mean Squared Error (RMSE): {rmse:.2f} minutes\")\n",
        "\n",
        "# Optional: Feature importance\n",
        "importance = model.feature_importances_\n",
        "for i, v in enumerate(importance):\n",
        "    print(f'Feature: {X_train.columns[i]}, Importance: {v:.2f}')\n",
        "\n",
        "# Predict a new sample (e.g., predicting for lunch on a sunny Tuesday)\n",
        "new_data = [[12, 30, 1, 2, 0, 1]]  # hour, minute, day_of_week, meal_type, weather, event\n",
        "predicted_wait_time = model.predict(new_data)\n",
        "print(f\"Predicted Waiting Time: {predicted_wait_time[0]:.2f} minutes\")\n"
      ],
      "metadata": {
        "colab": {
          "base_uri": "https://localhost:8080/"
        },
        "id": "dehIMvyR64vW",
        "outputId": "5241ded6-34f0-4b87-d691-8951624b434d"
      },
      "execution_count": 4,
      "outputs": [
        {
          "output_type": "stream",
          "name": "stdout",
          "text": [
            "Mean Absolute Error (MAE): 0.95 minutes\n",
            "Root Mean Squared Error (RMSE): 1.14 minutes\n",
            "Feature: day_of_week, Importance: 0.15\n",
            "Feature: meal_type, Importance: 0.10\n",
            "Feature: weather, Importance: 0.13\n",
            "Feature: event, Importance: 0.13\n",
            "Feature: hour, Importance: 0.21\n",
            "Feature: minute, Importance: 0.28\n",
            "Predicted Waiting Time: -0.05 minutes\n"
          ]
        },
        {
          "output_type": "stream",
          "name": "stderr",
          "text": [
            "/usr/local/lib/python3.10/dist-packages/sklearn/base.py:493: UserWarning: X does not have valid feature names, but RandomForestRegressor was fitted with feature names\n",
            "  warnings.warn(\n"
          ]
        }
      ]
    },
    {
      "cell_type": "code",
      "source": [
        "from sklearn.model_selection import GridSearchCV\n",
        "\n",
        "# Define the model\n",
        "rf = RandomForestRegressor(random_state=42)\n",
        "\n",
        "# Define hyperparameters to tune\n",
        "param_grid = {\n",
        "    'n_estimators': [50, 100, 200],  # Number of trees\n",
        "    'max_depth': [None, 10, 20, 30],  # Max depth of each tree\n",
        "    'min_samples_split': [2, 5, 10],  # Minimum samples to split a node\n",
        "    'min_samples_leaf': [1, 2, 4]  # Minimum samples per leaf node\n",
        "}\n",
        "\n",
        "# Set up GridSearchCV\n",
        "grid_search = GridSearchCV(estimator=rf, param_grid=param_grid, cv=3, n_jobs=-1, verbose=2)\n",
        "\n",
        "# Fit the model\n",
        "grid_search.fit(X_train, y_train)\n",
        "\n",
        "# Best parameters and model performance\n",
        "best_rf = grid_search.best_estimator_\n",
        "print(f\"Best Parameters: {grid_search.best_params_}\")\n",
        "\n",
        "# Evaluate the best model\n",
        "y_pred_best = best_rf.predict(X_test)\n",
        "best_mae = mean_absolute_error(y_test, y_pred_best)\n",
        "best_rmse = np.sqrt(mean_squared_error(y_test, y_pred_best))\n",
        "\n",
        "print(f\"Best Model MAE: {best_mae:.2f}\")\n",
        "print(f\"Best Model RMSE: {best_rmse:.2f}\")\n"
      ],
      "metadata": {
        "id": "j3d23ipf64su"
      },
      "execution_count": null,
      "outputs": []
    },
    {
      "cell_type": "code",
      "source": [
        "from flask import Flask, request, jsonify\n",
        "import joblib\n",
        "\n",
        "# Load the trained model (save your model using joblib)\n",
        "model = joblib.load('best_rf_model.pkl')  # Save after training using joblib.dump(best_rf, 'best_rf_model.pkl')\n",
        "\n",
        "app = Flask(__name__)\n",
        "\n",
        "@app.route('/predict', methods=['POST'])\n",
        "def predict():\n",
        "    # Get input data in JSON format\n",
        "    data = request.get_json()\n",
        "    features = [data['hour'], data['minute'], data['day_of_week'], data['meal_type'], data['weather'], data['event']]\n",
        "\n",
        "    # Make prediction\n",
        "    prediction = model.predict([features])\n",
        "\n",
        "    return jsonify({'predicted_waiting_time': prediction[0]})\n",
        "\n",
        "if __name__ == '__main__':\n",
        "    app.run(debug=True)\n"
      ],
      "metadata": {
        "id": "bKKQY-4H7m-O"
      },
      "execution_count": null,
      "outputs": []
    },
    {
      "cell_type": "code",
      "source": [
        "!pip install streamlit\n"
      ],
      "metadata": {
        "id": "aj_A9oUg77yi"
      },
      "execution_count": null,
      "outputs": []
    },
    {
      "cell_type": "code",
      "source": [
        "import streamlit as st\n",
        "import joblib\n",
        "\n",
        "# Load model\n",
        "model = joblib.load('best_rf_model.pkl')\n",
        "\n",
        "st.title(\"Meal Waiting Time Prediction\")\n",
        "\n",
        "# User inputs\n",
        "hour = st.slider('Hour', 6, 21)\n",
        "minute = st.slider('Minute', 0, 59)\n",
        "day_of_week = st.selectbox('Day of Week', ['Monday', 'Tuesday', 'Wednesday', 'Thursday', 'Friday', 'Saturday', 'Sunday'])\n",
        "meal_type = st.selectbox('Meal Type', ['Breakfast', 'Lunch', 'Dinner'])\n",
        "weather = st.selectbox('Weather', ['Sunny', 'Cloudy', 'Rainy', 'Snowy'])\n",
        "event = st.selectbox('Event', ['Normal', 'Sports Day', 'Cultural Fest', 'Holiday'])\n",
        "\n",
        "# Make prediction\n",
        "if st.button('Predict'):\n",
        "    input_data = [[hour, minute, day_of_week, meal_type, weather, event]]\n",
        "    prediction = model.predict(input_data)\n",
        "    st.write(f'Predicted Waiting Time: {prediction[0]:.2f} minutes')\n"
      ],
      "metadata": {
        "id": "HsXk61du7-ND"
      },
      "execution_count": null,
      "outputs": []
    }
  ]
}